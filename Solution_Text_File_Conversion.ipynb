{
  "nbformat": 4,
  "nbformat_minor": 0,
  "metadata": {
    "colab": {
      "provenance": [],
      "authorship_tag": "ABX9TyN0ptXj8mOR0hfn0lz8FLj9",
      "include_colab_link": true
    },
    "kernelspec": {
      "name": "python3",
      "display_name": "Python 3"
    },
    "language_info": {
      "name": "python"
    }
  },
  "cells": [
    {
      "cell_type": "markdown",
      "metadata": {
        "id": "view-in-github",
        "colab_type": "text"
      },
      "source": [
        "<a href=\"https://colab.research.google.com/github/MiscMissLA/Mini-Project-05-Text-File-Conversion/blob/main/Solution_Text_File_Conversion.ipynb\" target=\"_parent\"><img src=\"https://colab.research.google.com/assets/colab-badge.svg\" alt=\"Open In Colab\"/></a>"
      ]
    },
    {
      "cell_type": "markdown",
      "source": [
        "Python Code to convert file to upper case and time it."
      ],
      "metadata": {
        "id": "QCbrG5rcbpN6"
      }
    },
    {
      "cell_type": "code",
      "source": [
        "import os as o\n",
        "import time as t\n",
        "# o.mkdir('input')\n",
        "# o.mkdir('output')\n",
        "L = o.listdir('input')\n",
        "print(L)\n",
        "for i in L:\n",
        "  st = t.time()\n",
        "  fi = open('/content/input/'+i, 'r')\n",
        "  fo = open('/content/output/new_'+i, 'w')\n",
        "  for line in fi:\n",
        "    fo.write(line.upper())\n",
        "  fi.close()\n",
        "  fo.close()\n",
        "  end = t.time()\n",
        "  print('Time taken to convert ', i, 'to upper case: ', end-st)\n",
        "\n",
        "print('program successfully executed. ')"
      ],
      "metadata": {
        "colab": {
          "base_uri": "https://localhost:8080/"
        },
        "id": "DKdkAXtPXEnj",
        "outputId": "10719ca3-7d78-44eb-f6ed-b761eeb1d6dd"
      },
      "execution_count": 10,
      "outputs": [
        {
          "output_type": "stream",
          "name": "stdout",
          "text": [
            "['file-6.txt', 'file-2.txt', 'file-4.txt', 'file-1.txt', 'file-3.txt', 'file-5.txt']\n",
            "Time taken to convert  file-6.txt to upper case:  0.0006215572357177734\n",
            "Time taken to convert  file-2.txt to upper case:  0.0005311965942382812\n",
            "Time taken to convert  file-4.txt to upper case:  0.00043511390686035156\n",
            "Time taken to convert  file-1.txt to upper case:  0.00048065185546875\n",
            "Time taken to convert  file-3.txt to upper case:  0.0004131793975830078\n",
            "Time taken to convert  file-5.txt to upper case:  0.00044035911560058594\n",
            "program successfully executed. \n"
          ]
        }
      ]
    }
  ]
}